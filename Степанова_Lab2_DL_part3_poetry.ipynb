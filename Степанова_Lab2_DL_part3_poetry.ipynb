{
  "cells": [
    {
      "cell_type": "markdown",
      "metadata": {
        "id": "view-in-github",
        "colab_type": "text"
      },
      "source": [
        "<a href=\"https://colab.research.google.com/github/margaritastep/project-poetry/blob/main/%D0%A1%D1%82%D0%B5%D0%BF%D0%B0%D0%BD%D0%BE%D0%B2%D0%B0_Lab2_DL_part3_poetry.ipynb\" target=\"_parent\"><img src=\"https://colab.research.google.com/assets/colab-badge.svg\" alt=\"Open In Colab\"/></a>"
      ]
    },
    {
      "cell_type": "markdown",
      "metadata": {
        "id": "7GBnyHhb9AnH"
      },
      "source": [
        "## Lab 2"
      ]
    },
    {
      "cell_type": "markdown",
      "source": [
        "*С: Комментарий от студента: для отделения своих комментариев буду отмечать их буквой С и курсивом.*\n",
        "\n",
        "*С: Также не уверена, отображается ли это в ноутбуке, но на всякий случай предупрежу. У данного ноутбука два автора, т.к. в процессе решения у меня закончились вычислительные ресурсы в коллабе и пришлось воспользоваться резервной почтой. У второй почты такое странное(?) название, т.к. она создавалась чисто для использования чатжпт.*"
      ],
      "metadata": {
        "id": "M98tqHB3Sle3"
      }
    },
    {
      "cell_type": "markdown",
      "metadata": {
        "id": "yZiwU05b9AnM"
      },
      "source": [
        "### Part 3. Poetry generation\n",
        "\n",
        "Let's try to generate some poetry using RNNs.\n",
        "\n",
        "You have several choices here:\n",
        "\n",
        "* The Shakespeare sonnets, file `sonnets.txt` available in the notebook directory.\n",
        "\n",
        "* Роман в стихах \"Евгений Онегин\" Александра Сергеевича Пушкина. В предобработанном виде доступен по [ссылке](https://github.com/attatrol/data_sources/blob/master/onegin.txt).\n",
        "\n",
        "* Some other text source, if it will be approved by the course staff.\n",
        "\n",
        "Text generation can be designed in several steps:\n",
        "    \n",
        "1. Data loading.\n",
        "2. Dictionary generation.\n",
        "3. Data preprocessing.\n",
        "4. Model (neural network) training.\n",
        "5. Text generation (model evaluation).\n"
      ]
    },
    {
      "cell_type": "code",
      "execution_count": null,
      "metadata": {
        "id": "SFgeC5NL9AnN"
      },
      "outputs": [],
      "source": [
        "import string\n",
        "import os"
      ]
    },
    {
      "cell_type": "code",
      "source": [
        "# do not change the code in the block below\n",
        "# __________start of block__________\n",
        "import string\n",
        "import os\n",
        "from random import sample\n",
        "\n",
        "import numpy as np\n",
        "import torch, torch.nn as nn\n",
        "import torch.nn.functional as F\n",
        "\n",
        "#from IPython.display import clear_output\n",
        "\n",
        "import matplotlib.pyplot as plt\n",
        "#%matplotlib inline\n",
        "# __________end of block__________"
      ],
      "metadata": {
        "id": "xxgcp17Y9KZR"
      },
      "execution_count": null,
      "outputs": []
    },
    {
      "cell_type": "markdown",
      "source": [
        "*С: переношу на куду, чтобы быстрее считалось.*"
      ],
      "metadata": {
        "id": "VEKprtmPS-Gy"
      }
    },
    {
      "cell_type": "code",
      "source": [
        "device = torch.device(\"cuda\") if torch.cuda.is_available() else torch.device(\"cpu\")\n",
        "print(\"{} device is available\".format(device))"
      ],
      "metadata": {
        "colab": {
          "base_uri": "https://localhost:8080/"
        },
        "id": "KUX-_DWi9X-J",
        "outputId": "b24a4c10-0e3a-4f34-e073-265595b5922f"
      },
      "execution_count": null,
      "outputs": [
        {
          "output_type": "stream",
          "name": "stdout",
          "text": [
            "cuda device is available\n"
          ]
        }
      ]
    },
    {
      "cell_type": "markdown",
      "metadata": {
        "id": "NIfrRoOD9AnP"
      },
      "source": [
        "### Data loading: Shakespeare"
      ]
    },
    {
      "cell_type": "markdown",
      "metadata": {
        "id": "kD7H9o4W9AnQ"
      },
      "source": [
        "Shakespeare sonnets are awailable at this [link](http://www.gutenberg.org/ebooks/1041?msg=welcome_stranger). In addition, they are stored in the same directory as this notebook (`sonnetes.txt`). Simple preprocessing is already done for you in the next cell: all technical info is dropped."
      ]
    },
    {
      "cell_type": "code",
      "execution_count": null,
      "metadata": {
        "collapsed": true,
        "colab": {
          "base_uri": "https://localhost:8080/"
        },
        "id": "2TL6R0JJ9AnQ",
        "outputId": "92cf2721-2dfc-4086-bc76-9aa5a268bbc5"
      },
      "outputs": [
        {
          "output_type": "stream",
          "name": "stdout",
          "text": [
            "--2024-11-16 18:48:46--  https://raw.githubusercontent.com/girafe-ai/ml-course/22f_basic/homeworks/lab02_deep_learning/sonnets.txt\n",
            "Resolving raw.githubusercontent.com (raw.githubusercontent.com)... 185.199.108.133, 185.199.109.133, 185.199.110.133, ...\n",
            "Connecting to raw.githubusercontent.com (raw.githubusercontent.com)|185.199.108.133|:443... connected.\n",
            "HTTP request sent, awaiting response... 200 OK\n",
            "Length: 119748 (117K) [text/plain]\n",
            "Saving to: ‘sonnets.txt’\n",
            "\n",
            "\rsonnets.txt           0%[                    ]       0  --.-KB/s               \rsonnets.txt         100%[===================>] 116.94K  --.-KB/s    in 0.01s   \n",
            "\n",
            "2024-11-16 18:48:46 (7.74 MB/s) - ‘sonnets.txt’ saved [119748/119748]\n",
            "\n"
          ]
        }
      ],
      "source": [
        "if not os.path.exists('sonnets.txt'):\n",
        "    !wget https://raw.githubusercontent.com/girafe-ai/ml-course/22f_basic/homeworks/lab02_deep_learning/sonnets.txt\n",
        "\n",
        "with open('sonnets.txt', 'r') as iofile:\n",
        "    text = iofile.readlines()\n",
        "\n",
        "TEXT_START = 45\n",
        "TEXT_END = -368\n",
        "text = text[TEXT_START : TEXT_END]\n",
        "assert len(text) == 2616"
      ]
    },
    {
      "cell_type": "markdown",
      "metadata": {
        "id": "gEVp2rg-9AnQ"
      },
      "source": [
        "In opposite to the in-class practice, this time we want to predict complex text. Let's reduce the complexity of the task and lowercase all the symbols.\n",
        "\n",
        "Now variable `text` is a list of strings. Join all the strings into one and lowercase it."
      ]
    },
    {
      "cell_type": "code",
      "execution_count": null,
      "metadata": {
        "colab": {
          "base_uri": "https://localhost:8080/"
        },
        "id": "lYLCw_539AnR",
        "outputId": "2d8c3128-7436-4b48-a68f-53367f1ca9ba"
      },
      "outputs": [
        {
          "output_type": "stream",
          "name": "stdout",
          "text": [
            "OK!\n"
          ]
        }
      ],
      "source": [
        "# Join all the strings into one and lowercase it\n",
        "# Put result into variable text.\n",
        "\n",
        "# Your great code here\n",
        "out = ''.join(text).lower()\n",
        "text = out\n",
        "assert len(text) == 100225, 'Are you sure you have concatenated all the strings?'\n",
        "assert not any([x in set(text) for x in string.ascii_uppercase]), 'Uppercase letters are present'\n",
        "print('OK!')"
      ]
    },
    {
      "cell_type": "markdown",
      "metadata": {
        "id": "emAiFhfh9AnS"
      },
      "source": [
        "### Data loading: \"Евгений Онегин\"\n"
      ]
    },
    {
      "cell_type": "markdown",
      "source": [
        "*С: я решила использовать датасет с Онегиным, т.к. мне на русском проще воспринимать результаты. В этом блоке, в целом, последовательность действий уже и так описана.*"
      ],
      "metadata": {
        "id": "5mj5uTB5TnGm"
      }
    },
    {
      "cell_type": "code",
      "execution_count": null,
      "metadata": {
        "colab": {
          "base_uri": "https://localhost:8080/"
        },
        "id": "V7Ix9VYs9AnS",
        "outputId": "5874449b-383e-4d47-8c20-81ff95fcec47"
      },
      "outputs": [
        {
          "output_type": "stream",
          "name": "stdout",
          "text": [
            "--2024-11-16 19:06:39--  https://raw.githubusercontent.com/attatrol/data_sources/master/onegin.txt\n",
            "Resolving raw.githubusercontent.com (raw.githubusercontent.com)... 185.199.108.133, 185.199.109.133, 185.199.111.133, ...\n",
            "Connecting to raw.githubusercontent.com (raw.githubusercontent.com)|185.199.108.133|:443... connected.\n",
            "HTTP request sent, awaiting response... 200 OK\n",
            "Length: 262521 (256K) [text/plain]\n",
            "Saving to: ‘onegin.txt’\n",
            "\n",
            "onegin.txt          100%[===================>] 256.37K  --.-KB/s    in 0.03s   \n",
            "\n",
            "2024-11-16 19:06:39 (9.91 MB/s) - ‘onegin.txt’ saved [262521/262521]\n",
            "\n"
          ]
        }
      ],
      "source": [
        "!wget https://raw.githubusercontent.com/attatrol/data_sources/master/onegin.txt\n",
        "\n",
        "with open('onegin.txt', 'r') as iofile:\n",
        "    text = iofile.readlines()\n",
        "\n",
        "text = [x.replace('\\t\\t', '') for x in text]"
      ]
    },
    {
      "cell_type": "markdown",
      "metadata": {
        "id": "hI971Qvq9AnT"
      },
      "source": [
        "In opposite to the in-class practice, this time we want to predict complex text. Let's reduce the complexity of the task and lowercase all the symbols.\n",
        "\n",
        "Now variable `text` is a list of strings. Join all the strings into one and lowercase it."
      ]
    },
    {
      "cell_type": "code",
      "execution_count": null,
      "metadata": {
        "id": "02i2LVg-9AnU"
      },
      "outputs": [],
      "source": [
        "# Join all the strings into one and lowercase it\n",
        "# Put result into variable text.\n",
        "\n",
        "# Your great code here\n",
        "out = ''.join(text).lower()\n",
        "text = out"
      ]
    },
    {
      "cell_type": "markdown",
      "metadata": {
        "id": "hj7jmfcN9AnU"
      },
      "source": [
        "Put all the characters, that you've seen in the text, into variable `tokens`."
      ]
    },
    {
      "cell_type": "code",
      "execution_count": null,
      "metadata": {
        "id": "d5ZAvRT49AnU"
      },
      "outputs": [],
      "source": [
        "tokens = sorted(set(out))"
      ]
    },
    {
      "cell_type": "markdown",
      "metadata": {
        "id": "OOr5I34_9AnV"
      },
      "source": [
        "Create dictionary `token_to_idx = {<char>: <index>}` and dictionary `idx_to_token = {<index>: <char>}`"
      ]
    },
    {
      "cell_type": "code",
      "execution_count": null,
      "metadata": {
        "collapsed": true,
        "id": "iZM-TGMl9AnV"
      },
      "outputs": [],
      "source": [
        "# dict <index>:<char>\n",
        "# Your great code here\n",
        "\n",
        "# dict <char>:<index>\n",
        "# Your great code here\n",
        "tokens_to_idx = {x: idx for idx, x in enumerate(tokens)}\n",
        "idx_to_token = {idx: x for idx, x in enumerate(tokens)}"
      ]
    },
    {
      "cell_type": "markdown",
      "metadata": {
        "id": "sLzqujzu9AnV"
      },
      "source": [
        "*Comment: in this task we have only 38 different tokens, so let's use one-hot encoding.*"
      ]
    },
    {
      "cell_type": "markdown",
      "metadata": {
        "id": "L3nFpfgN9AnV"
      },
      "source": [
        "### Building the model"
      ]
    },
    {
      "cell_type": "markdown",
      "metadata": {
        "id": "DSAjQ2fg9AnV"
      },
      "source": [
        "Now we want to build and train recurrent neural net which would be able to something similar to Shakespeare's poetry.\n",
        "\n",
        "Let's use vanilla RNN, similar to the one created during the lesson."
      ]
    },
    {
      "cell_type": "markdown",
      "source": [
        "*С: из всего датасета текстов я генерирую массив входных данных для обучения нейросети: для каждой буквы (начиная с seq_length) записываю предыдущие seq_length символов. Последовательность seq_length символов будет входными данными, а следующий за последовательностью символ - таргетом.*"
      ],
      "metadata": {
        "id": "Lq44xGQlT-t_"
      }
    },
    {
      "cell_type": "code",
      "source": [
        "seq_length = 100\n",
        "step = 1\n",
        "sentences = []\n",
        "next_chars = []\n",
        "\n",
        "for i in range(0, len(text) - seq_length, step):\n",
        "    sentences.append(text[i: i + seq_length])\n",
        "    next_chars.append(text[i + seq_length])\n",
        "\n",
        "sentences = np.array(sentences)\n",
        "next_chars = np.array(next_chars)\n",
        "\n",
        "print(sentences[:5])\n",
        "print(next_chars[:5])\n",
        "print('Number of sequences:', len(sentences))"
      ],
      "metadata": {
        "colab": {
          "base_uri": "https://localhost:8080/"
        },
        "id": "wlD8Eh9q-SSR",
        "outputId": "871d422b-c921-4a2f-b851-54e3ab1097c8"
      },
      "execution_count": null,
      "outputs": [
        {
          "output_type": "stream",
          "name": "stdout",
          "text": [
            "['\\ni\\n\\n«мой дядя самых честных правил,\\nкогда не в шутку занемог,\\nон уважать себя заставил\\nи лучше выдум'\n",
            " 'i\\n\\n«мой дядя самых честных правил,\\nкогда не в шутку занемог,\\nон уважать себя заставил\\nи лучше выдума'\n",
            " '\\n\\n«мой дядя самых честных правил,\\nкогда не в шутку занемог,\\nон уважать себя заставил\\nи лучше выдумат'\n",
            " '\\n«мой дядя самых честных правил,\\nкогда не в шутку занемог,\\nон уважать себя заставил\\nи лучше выдумать'\n",
            " '«мой дядя самых честных правил,\\nкогда не в шутку занемог,\\nон уважать себя заставил\\nи лучше выдумать ']\n",
            "['а' 'т' 'ь' ' ' 'н']\n",
            "Number of sequences: 141788\n"
          ]
        }
      ]
    },
    {
      "cell_type": "markdown",
      "source": [
        "*С: эта функция превращает датасет выше из букв в числа в соответствии с нашими токенами.*"
      ],
      "metadata": {
        "id": "_tmPL_oEUaqG"
      }
    },
    {
      "cell_type": "code",
      "source": [
        "def getdata(sentences, next_chars):\n",
        "    X = np.zeros((len(sentences), seq_length))\n",
        "    y = np.zeros((len(sentences)))\n",
        "\n",
        "    for i in range(len(sentences)):\n",
        "        sentence = sentences[i]\n",
        "        for t, char in enumerate(sentence):\n",
        "            X[i, t] = tokens_to_idx[char]\n",
        "        y[i] = tokens_to_idx[next_chars[i]]\n",
        "    return X, y"
      ],
      "metadata": {
        "id": "anuMJuqH-X0X"
      },
      "execution_count": null,
      "outputs": []
    },
    {
      "cell_type": "code",
      "source": [
        "train_x, train_y = getdata(sentences, next_chars)\n",
        "print('Shape of train_x:', train_x.shape)\n",
        "print('Shape of train_y:', train_y.shape)"
      ],
      "metadata": {
        "colab": {
          "base_uri": "https://localhost:8080/"
        },
        "id": "fHr9jc96-8hb",
        "outputId": "10756ab0-5445-4f67-98a6-e27b8dbaf3bd"
      },
      "execution_count": null,
      "outputs": [
        {
          "output_type": "stream",
          "name": "stdout",
          "text": [
            "Shape of train_x: (141788, 100)\n",
            "Shape of train_y: (141788,)\n"
          ]
        }
      ]
    },
    {
      "cell_type": "code",
      "source": [
        "X_train_tensor = torch.tensor(train_x, dtype=torch.long).to(device)\n",
        "Y_train_tensor = torch.tensor(train_y, dtype=torch.long).to(device)"
      ],
      "metadata": {
        "id": "IeDmP6tQ_Frd"
      },
      "execution_count": null,
      "outputs": []
    },
    {
      "cell_type": "markdown",
      "source": [
        "*С: Размер бача 64.*"
      ],
      "metadata": {
        "id": "dViehBhgUqai"
      }
    },
    {
      "cell_type": "code",
      "source": [
        "batch_size = 64"
      ],
      "metadata": {
        "id": "GrLub51NCRyD"
      },
      "execution_count": null,
      "outputs": []
    },
    {
      "cell_type": "markdown",
      "source": [
        "*С: делаю генератор, который будет выдавать рандомные элементы из обучающей выборки.*"
      ],
      "metadata": {
        "id": "huFdVd7-Uus3"
      }
    },
    {
      "cell_type": "code",
      "source": [
        "from torch.utils.data import DataLoader\n",
        "\n",
        "train = torch.utils.data.TensorDataset(X_train_tensor, Y_train_tensor)\n",
        "train_loader = torch.utils.data.DataLoader(train, batch_size=batch_size)"
      ],
      "metadata": {
        "id": "yxlgF52c_Ghs"
      },
      "execution_count": null,
      "outputs": []
    },
    {
      "cell_type": "markdown",
      "source": [
        "*С: Размер слоёв эмбединга и скрытых слоёв RNN.*"
      ],
      "metadata": {
        "id": "YUsS0RaUU9fM"
      }
    },
    {
      "cell_type": "code",
      "source": [
        "emb_size = 64\n",
        "hid_size = 128"
      ],
      "metadata": {
        "id": "j3AX6hI3_jc5"
      },
      "execution_count": null,
      "outputs": []
    },
    {
      "cell_type": "markdown",
      "source": [
        "*С: создаю нейросеть. В ней 2 слоя, слой эмбединга, линейный слой на выходе, есть дропаут. Т.к. начинала делать д/з до семинара, использовала также отдельно функцию задания hidden слоя, хотя можно было обойтись и без него.*"
      ],
      "metadata": {
        "id": "4tExc44fVEOD"
      }
    },
    {
      "cell_type": "code",
      "source": [
        "class CharRNNLoop(nn.Module):\n",
        "  def __init__(self, num_tokens=len(tokens), emb_size=emb_size, rnn_num_units=hid_size, n_layer = 2, dropout=0.2):\n",
        "    super(self.__class__, self).__init__()\n",
        "    self.n_layer = n_layer\n",
        "    self.hid_size = rnn_num_units\n",
        "    torch.manual_seed(42)\n",
        "    self.emb = nn.Embedding(num_tokens, emb_size)\n",
        "    self.rnn = nn.RNN(emb_size, rnn_num_units, batch_first=True, dropout=dropout, num_layers=n_layer)\n",
        "    self.hid_to_logits = nn.Linear(rnn_num_units, num_tokens)\n",
        "  def forward(self, x, hidden):\n",
        "    embedded = self.emb(x)\n",
        "    h_seq, hidden = self.rnn(embedded, hidden)\n",
        "    next_logits = self.hid_to_logits(h_seq)[:, -1]\n",
        "    next_logp = F.log_softmax(next_logits, dim=-1)\n",
        "    return next_logp, hidden\n",
        "  def initial_state(self, b_size):\n",
        "    return torch.zeros(self.n_layer, b_size, self.hid_size, requires_grad=True)"
      ],
      "metadata": {
        "id": "zYTzTdKF_b8p"
      },
      "execution_count": null,
      "outputs": []
    },
    {
      "cell_type": "markdown",
      "source": [
        "*С: создаю модель, перебрасываю на куду.*"
      ],
      "metadata": {
        "id": "gu-SYKtYVZEj"
      }
    },
    {
      "cell_type": "code",
      "source": [
        "model = CharRNNLoop(len(tokens), 128, 64)\n",
        "model = model.to(device)\n",
        "model"
      ],
      "metadata": {
        "colab": {
          "base_uri": "https://localhost:8080/"
        },
        "id": "9IxV8PF3BHtp",
        "outputId": "fe7bc665-da01-4843-816e-5efe620fc1f7"
      },
      "execution_count": null,
      "outputs": [
        {
          "output_type": "execute_result",
          "data": {
            "text/plain": [
              "CharRNNLoop(\n",
              "  (emb): Embedding(83, 128)\n",
              "  (rnn): RNN(128, 64, num_layers=2, batch_first=True, dropout=0.2)\n",
              "  (hid_to_logits): Linear(in_features=64, out_features=83, bias=True)\n",
              ")"
            ]
          },
          "metadata": {},
          "execution_count": 43
        }
      ]
    },
    {
      "cell_type": "markdown",
      "source": [
        "*С: несколько функций для проверки размерностей, т.к. с этим мне пришлось довольно долго повозиться.*"
      ],
      "metadata": {
        "id": "Z14ZODxtVgSz"
      }
    },
    {
      "cell_type": "code",
      "source": [
        "for data, y in train_loader:\n",
        "    print(data[0])\n",
        "    print(y[0])\n",
        "    break"
      ],
      "metadata": {
        "colab": {
          "base_uri": "https://localhost:8080/"
        },
        "id": "FtJlrGm0Bl2w",
        "outputId": "f88a8ec4-4525-4ede-b99d-f068e6abf0b3"
      },
      "execution_count": null,
      "outputs": [
        {
          "output_type": "stream",
          "name": "stdout",
          "text": [
            "tensor([ 0, 26,  0,  0, 43, 57, 59, 54,  1, 49, 76, 49, 76,  1, 62, 45, 57, 72,\n",
            "        66,  1, 68, 50, 62, 63, 58, 72, 66,  1, 60, 61, 45, 47, 53, 56,  5,  0,\n",
            "        55, 59, 48, 49, 45,  1, 58, 50,  1, 47,  1, 69, 64, 63, 55, 64,  1, 52,\n",
            "        45, 58, 50, 57, 59, 48,  5,  0, 59, 58,  1, 64, 47, 45, 51, 45, 63, 73,\n",
            "         1, 62, 50, 46, 76,  1, 52, 45, 62, 63, 45, 47, 53, 56,  0, 53,  1, 56,\n",
            "        64, 68, 69, 50,  1, 47, 72, 49, 64, 57], device='cuda:0')\n",
            "tensor(45, device='cuda:0')\n"
          ]
        }
      ]
    },
    {
      "cell_type": "code",
      "source": [
        "data.shape"
      ],
      "metadata": {
        "colab": {
          "base_uri": "https://localhost:8080/"
        },
        "id": "MZezGpZJBdpA",
        "outputId": "1d0f0e16-6a77-4568-e081-3d70fbaad675"
      },
      "execution_count": null,
      "outputs": [
        {
          "output_type": "execute_result",
          "data": {
            "text/plain": [
              "torch.Size([64, 100])"
            ]
          },
          "metadata": {},
          "execution_count": 45
        }
      ]
    },
    {
      "cell_type": "markdown",
      "source": [
        "*С: проверка того, что модель \"кушает\" входные данные и выдаёт результат нужного размера.*"
      ],
      "metadata": {
        "id": "tPwZEhUrVoI3"
      }
    },
    {
      "cell_type": "code",
      "source": [
        "hid = model.initial_state(batch_size).to(device)\n",
        "output = model(data.to(device), hid)\n",
        "output[0].shape"
      ],
      "metadata": {
        "colab": {
          "base_uri": "https://localhost:8080/"
        },
        "id": "ocOJdHRvBqOw",
        "outputId": "51e34be2-bdf9-4ec7-af37-669ba7c51407"
      },
      "execution_count": null,
      "outputs": [
        {
          "output_type": "execute_result",
          "data": {
            "text/plain": [
              "torch.Size([64, 83])"
            ]
          },
          "metadata": {},
          "execution_count": 46
        }
      ]
    },
    {
      "cell_type": "markdown",
      "source": [
        "*С: Собственно, функция обучения модели.*"
      ],
      "metadata": {
        "id": "0hLImnXaV4bz"
      }
    },
    {
      "cell_type": "code",
      "source": [
        "def train(model, crit, optim,\n",
        "          train_loader,\n",
        "          num_epochs=10):\n",
        "\n",
        "    history = []\n",
        "\n",
        "    for epoch in range(num_epochs):\n",
        "\n",
        "        train_loss = 0\n",
        "\n",
        "        for i, data in enumerate(train_loader): #Проходим по всем объектам даталодера\n",
        "            inputs, labels = data[0].to(device), data[1].to(device) #переносим на куду\n",
        "            #print(inputs[0], labels[0])\n",
        "            optim.zero_grad() #зануление градиента\n",
        "\n",
        "            hidden = model.initial_state(len(inputs)).to(device) #создание исходного скрытого слоя\n",
        "            outputs, hidden = model(inputs, hidden) #вычисление результата, который даёт модель\n",
        "\n",
        "            loss = crit(outputs, labels) #подсчёт лосса\n",
        "\n",
        "            loss.backward() #пробрасываем лосс\n",
        "            optim.step() #шаг оптимизатора\n",
        "\n",
        "            train_loss += np.sum(loss.detach().cpu().numpy()) #сохранение лосса на этом этапе\n",
        "\n",
        "        train_loss /= len(train_loader)\n",
        "        history.append(train_loss)\n",
        "\n",
        "        print(f\"Epoch {epoch + 1} of {num_epochs}\", end='')\n",
        "        print(f\"  train loss: {train_loss:.3f}\")\n",
        "\n",
        "\n",
        "    return model, history"
      ],
      "metadata": {
        "id": "6PsZJdQHCsYJ"
      },
      "execution_count": null,
      "outputs": []
    },
    {
      "cell_type": "markdown",
      "source": [
        "*С: критерий - кросс-энтропия, т.к. у нас многоклассовая классификация. Оптимизатор - Адам. Обучение модели. Пусть будет 15 эпох, LSTM потом всё равно получится лучше.*"
      ],
      "metadata": {
        "id": "RruE40ZOWXU1"
      }
    },
    {
      "cell_type": "code",
      "source": [
        "criterion = torch.nn.CrossEntropyLoss()\n",
        "optimizer = torch.optim.Adam(model.parameters(), lr=0.001)\n",
        "\n",
        "model, history = train(\n",
        "    model, criterion, optimizer,\n",
        "    train_loader,\n",
        "    num_epochs=15,\n",
        ")"
      ],
      "metadata": {
        "colab": {
          "base_uri": "https://localhost:8080/"
        },
        "id": "mM1-OCmLICA7",
        "outputId": "dfd2efac-9d3c-474a-e73b-58059fd67048"
      },
      "execution_count": null,
      "outputs": [
        {
          "output_type": "stream",
          "name": "stdout",
          "text": [
            "Epoch 1 of 15  train loss: 2.555\n",
            "Epoch 2 of 15  train loss: 2.325\n",
            "Epoch 3 of 15  train loss: 2.257\n",
            "Epoch 4 of 15  train loss: 2.216\n",
            "Epoch 5 of 15  train loss: 2.190\n",
            "Epoch 6 of 15  train loss: 2.170\n",
            "Epoch 7 of 15  train loss: 2.153\n",
            "Epoch 8 of 15  train loss: 2.139\n",
            "Epoch 9 of 15  train loss: 2.131\n",
            "Epoch 10 of 15  train loss: 2.120\n",
            "Epoch 11 of 15  train loss: 2.114\n",
            "Epoch 12 of 15  train loss: 2.107\n",
            "Epoch 13 of 15  train loss: 2.099\n",
            "Epoch 14 of 15  train loss: 2.097\n",
            "Epoch 15 of 15  train loss: 2.092\n"
          ]
        }
      ]
    },
    {
      "cell_type": "markdown",
      "metadata": {
        "id": "N7h_g6t39AnW"
      },
      "source": [
        "Plot the loss function (axis X: number of epochs, axis Y: loss function)."
      ]
    },
    {
      "cell_type": "markdown",
      "source": [
        "*С: Видим, что лосс убывает по эпохам и это хорошо.*"
      ],
      "metadata": {
        "id": "NrKnC067W-qu"
      }
    },
    {
      "cell_type": "code",
      "execution_count": null,
      "metadata": {
        "collapsed": true,
        "id": "qZh0f4wH9AnW",
        "colab": {
          "base_uri": "https://localhost:8080/",
          "height": 466
        },
        "outputId": "b2fe1a76-5ffe-4675-8496-8267e738c3ca"
      },
      "outputs": [
        {
          "output_type": "execute_result",
          "data": {
            "text/plain": [
              "Text(0, 0.5, 'Loss')"
            ]
          },
          "metadata": {},
          "execution_count": 49
        },
        {
          "output_type": "display_data",
          "data": {
            "text/plain": [
              "<Figure size 640x480 with 1 Axes>"
            ],
            "image/png": "[encoded data removed]"
          },
          "metadata": {}
        }
      ],
      "source": [
        "# Your plot code here\n",
        "x = np.arange(len(history))\n",
        "plt.plot(x, history)\n",
        "plt.xlabel('Num epoch')\n",
        "plt.ylabel('Loss')"
      ]
    },
    {
      "cell_type": "markdown",
      "source": [
        "*С: функцию генерации пришлось немного поменять из-за проблем с батчами и размерностями. Идея та же - создаём нулевой скрытый слой, скрамливаем по символу seed фразу, далее генерим по одной букве, не забывая после каждой буквы обновлять скрытое состояние.*"
      ],
      "metadata": {
        "id": "_pl_U4PIXJG7"
      }
    },
    {
      "cell_type": "code",
      "source": [
        "def generate_sample(char_rnn, seed_phrase=' Hello', max_length=500, temperature=1.0):\n",
        "\n",
        "    x_sequence = [tokens_to_idx[token] for token in seed_phrase]\n",
        "    x_sequence = torch.tensor([[x_sequence]], dtype=torch.int64).to(device)\n",
        "    #print(x_sequence)\n",
        "    hid_state = char_rnn.initial_state(1).to(device)\n",
        "\n",
        "    #feed the seed phrase, if any\n",
        "    for i in range(len(seed_phrase) - 1):\n",
        "        #print(x_sequence[:, -1].shape, hid_state.shape)\n",
        "        out, hid_state = char_rnn(x_sequence[:, :, i], hid_state)\n",
        "\n",
        "    #start generating\n",
        "    for _ in range(max_length - len(seed_phrase)):\n",
        "        #print(x_sequence.shape, x_sequence, hid_state.shape)\n",
        "        out, hid_state = char_rnn(x_sequence[:, -1], hid_state)\n",
        "        # Be really careful here with the model output\n",
        "        p_next = F.softmax(out / temperature, dim=-1).data.cpu().numpy()[0]\n",
        "\n",
        "        # sample next token and push it back into x_sequence\n",
        "        #print(p_next.shape, len(tokens))\n",
        "        next_ix = np.random.choice(len(tokens), p=p_next)\n",
        "        next_ix = torch.tensor([[[next_ix]]], dtype=torch.int64).to(device)\n",
        "        #print('x+seq', x_sequence.shape, 'next', next_ix.shape)\n",
        "        x_sequence = torch.cat([x_sequence, next_ix], dim=2)\n",
        "\n",
        "    return ''.join([tokens[ix] for ix in x_sequence.data.cpu().numpy()[0][0]])"
      ],
      "metadata": {
        "id": "GLfhYsb4uJUy"
      },
      "execution_count": null,
      "outputs": []
    },
    {
      "cell_type": "markdown",
      "source": [
        "*С: кстати, на Шекспире тоже попробовала, довольно забавно получается.*"
      ],
      "metadata": {
        "id": "mYU6B-DsX2SA"
      }
    },
    {
      "cell_type": "code",
      "source": [
        "#print(generate_sample(char_rnn=model, seed_phrase=' the', max_length=500, temperature=1.0))"
      ],
      "metadata": {
        "id": "028p9KdrXllh"
      },
      "execution_count": null,
      "outputs": []
    },
    {
      "cell_type": "code",
      "execution_count": null,
      "metadata": {
        "id": "lwDsXamd9AnX",
        "outputId": "78ec93e7-43b7-448a-df7f-929959cc2f2e",
        "colab": {
          "base_uri": "https://localhost:8080/"
        }
      },
      "outputs": [
        {
          "output_type": "stream",
          "name": "stdout",
          "text": [
            " мой дядя самых честных правилый мек ли милы;\n",
            "то придо бигин вертоскинья\n",
            "и и с онегин я встреют;\n",
            "и онегин вздейся встим и как теперь стрый прости я сердцная нежеством\n",
            "не я можают бы с сутрать?\n",
            "но мое хотства душу счастрась перапит ее же своей мой гружя! минте ментеньем\n",
            "смелавай\n",
            "и в сердце за не благате,\n",
            "в былась и моля, он в нестро бутца благодиу\n",
            "иль приметя рамет все шуть.\n",
            "\n",
            "\n",
            "жадвижы кров передница, одном слогтам и бых так рассвертил в своезумии сон!\n",
            "\n",
            "да лени моге, столь,\n",
            "и страчае,\n",
            "днет,\n",
            "и мой \n"
          ]
        }
      ],
      "source": [
        "# An example of generated text.\n",
        "# print(generate_text(length=500, temperature=0.2))\n",
        "\n",
        "print(generate_sample(char_rnn=model, seed_phrase=' мой дядя самых честных правил', max_length=500, temperature=0.8))"
      ]
    },
    {
      "cell_type": "markdown",
      "metadata": {
        "id": "NjDcI97t9AnX"
      },
      "source": [
        "### More poetic model\n",
        "\n",
        "Let's use LSTM instead of vanilla RNN and compare the results."
      ]
    },
    {
      "cell_type": "markdown",
      "metadata": {
        "id": "gIOFoMvl9AnX"
      },
      "source": [
        "Plot the loss function of the number of epochs. Does the final loss become better?"
      ]
    },
    {
      "cell_type": "markdown",
      "source": [
        "*С: с LSTM я повторяю с точностью то же самое, за исключением двух моментов: 1 - вместо RNN в модели пишу LSTM; 2 - из-за особенностей архитектуры в скрытом состоянии (в самой модели и потом при написании дальнейшего кода) этот слой ждёт не просто слой, а пару слоёв одинаковой размерности, что я, собственно, и добавила. Модели и функции назвала аналогично с добавкой 1, чтобы они случайно не перепутались.*"
      ],
      "metadata": {
        "id": "4DmOtLK5YA8a"
      }
    },
    {
      "cell_type": "code",
      "source": [
        "class CharLSTMLoop(nn.Module):\n",
        "  def __init__(self, num_tokens=len(tokens), emb_size=emb_size, rnn_num_units=hid_size, n_layer = 2, dropout=0.2):\n",
        "    super(self.__class__, self).__init__()\n",
        "    self.n_layer = n_layer\n",
        "    self.hid_size = rnn_num_units\n",
        "    torch.manual_seed(42)\n",
        "    self.emb = nn.Embedding(num_tokens, emb_size)\n",
        "    self.lstm = nn.LSTM(emb_size, rnn_num_units, batch_first=True, dropout=dropout, num_layers=n_layer)\n",
        "    self.hid_to_logits = nn.Linear(rnn_num_units, num_tokens)\n",
        "  def forward(self, x, hidden):\n",
        "    embedded = self.emb(x)\n",
        "    h_seq, hidden = self.lstm(embedded, hidden)\n",
        "    next_logits = self.hid_to_logits(h_seq)[:, -1]\n",
        "    next_logp = F.log_softmax(next_logits, dim=-1)\n",
        "    return next_logp, hidden\n",
        "  def initial_state(self, b_size):\n",
        "    return torch.zeros(self.n_layer, b_size, self.hid_size, requires_grad=True), torch.zeros(self.n_layer, b_size, self.hid_size, requires_grad=True)"
      ],
      "metadata": {
        "id": "qUN8Mz8_wxos"
      },
      "execution_count": null,
      "outputs": []
    },
    {
      "cell_type": "code",
      "source": [
        "model1 = CharLSTMLoop(len(tokens), 128, 64)\n",
        "model1 = model1.to(device)\n",
        "model1"
      ],
      "metadata": {
        "colab": {
          "base_uri": "https://localhost:8080/"
        },
        "id": "mymeUAYpxa3D",
        "outputId": "6ad5ed2c-4d2a-4c82-cf29-8d4a5123e264"
      },
      "execution_count": null,
      "outputs": [
        {
          "output_type": "execute_result",
          "data": {
            "text/plain": [
              "CharLSTMLoop(\n",
              "  (emb): Embedding(83, 128)\n",
              "  (lstm): LSTM(128, 64, num_layers=2, batch_first=True, dropout=0.2)\n",
              "  (hid_to_logits): Linear(in_features=64, out_features=83, bias=True)\n",
              ")"
            ]
          },
          "metadata": {},
          "execution_count": 73
        }
      ]
    },
    {
      "cell_type": "code",
      "source": [
        "for data, y in train_loader:\n",
        "    print(data[0])\n",
        "    print(y[0])\n",
        "    break"
      ],
      "metadata": {
        "colab": {
          "base_uri": "https://localhost:8080/"
        },
        "id": "jicbZH93yPKi",
        "outputId": "0e4263ff-c8b1-4f83-aa90-deda4dd702b1"
      },
      "execution_count": null,
      "outputs": [
        {
          "output_type": "stream",
          "name": "stdout",
          "text": [
            "tensor([ 0, 26,  0,  0, 43, 57, 59, 54,  1, 49, 76, 49, 76,  1, 62, 45, 57, 72,\n",
            "        66,  1, 68, 50, 62, 63, 58, 72, 66,  1, 60, 61, 45, 47, 53, 56,  5,  0,\n",
            "        55, 59, 48, 49, 45,  1, 58, 50,  1, 47,  1, 69, 64, 63, 55, 64,  1, 52,\n",
            "        45, 58, 50, 57, 59, 48,  5,  0, 59, 58,  1, 64, 47, 45, 51, 45, 63, 73,\n",
            "         1, 62, 50, 46, 76,  1, 52, 45, 62, 63, 45, 47, 53, 56,  0, 53,  1, 56,\n",
            "        64, 68, 69, 50,  1, 47, 72, 49, 64, 57], device='cuda:0')\n",
            "tensor(45, device='cuda:0')\n"
          ]
        }
      ]
    },
    {
      "cell_type": "code",
      "source": [
        "hid = model1.initial_state(batch_size)[0].to(device), model1.initial_state(batch_size)[1].to(device)\n",
        "output = model1(data.to(device), hid)\n",
        "output[0].shape"
      ],
      "metadata": {
        "colab": {
          "base_uri": "https://localhost:8080/"
        },
        "id": "vHHAaMjVxgWZ",
        "outputId": "06590d91-e4f2-424a-9958-229feb183220"
      },
      "execution_count": null,
      "outputs": [
        {
          "output_type": "execute_result",
          "data": {
            "text/plain": [
              "torch.Size([64, 83])"
            ]
          },
          "metadata": {},
          "execution_count": 75
        }
      ]
    },
    {
      "cell_type": "code",
      "source": [
        "def train1(model, crit, optim,\n",
        "          train_loader,\n",
        "          num_epochs=10):\n",
        "\n",
        "    history = []\n",
        "\n",
        "    for epoch in range(num_epochs):\n",
        "\n",
        "        train_loss = 0\n",
        "\n",
        "        for i, data in enumerate(train_loader):   #тут в последнем баче 92 элемента и всё ломается\n",
        "            inputs, labels = data[0].to(device), data[1].to(device)\n",
        "            #print(inputs[0], labels[0])\n",
        "            optim.zero_grad()\n",
        "\n",
        "            hidden = model.initial_state(len(inputs))[0].to(device), model.initial_state(len(inputs))[1].to(device)\n",
        "            outputs, hidden = model(inputs, hidden)\n",
        "\n",
        "            loss = crit(outputs, labels)\n",
        "\n",
        "            loss.backward()\n",
        "            optim.step()\n",
        "\n",
        "            train_loss += np.sum(loss.detach().cpu().numpy())\n",
        "\n",
        "        train_loss /= len(train_loader)\n",
        "        history.append(train_loss)\n",
        "\n",
        "        print(f\"Epoch {epoch + 1} of {num_epochs}\", end='')\n",
        "        print(f\"  train loss: {train_loss:.3f}\")\n",
        "\n",
        "\n",
        "    return model, history"
      ],
      "metadata": {
        "id": "XWPQKMN8xxwX"
      },
      "execution_count": null,
      "outputs": []
    },
    {
      "cell_type": "code",
      "source": [
        "criterion = torch.nn.CrossEntropyLoss()\n",
        "optimizer = torch.optim.Adam(model1.parameters(), lr=0.001)\n",
        "\n",
        "model1, history1 = train1(\n",
        "    model1, criterion, optimizer,\n",
        "    train_loader,\n",
        "    num_epochs=50,\n",
        ")"
      ],
      "metadata": {
        "colab": {
          "base_uri": "https://localhost:8080/"
        },
        "id": "gQBb6ajPxyR7",
        "outputId": "03798e13-031e-4a4d-9e30-ef035ae2b968"
      },
      "execution_count": null,
      "outputs": [
        {
          "output_type": "stream",
          "name": "stdout",
          "text": [
            "Epoch 1 of 50  train loss: 2.696\n",
            "Epoch 2 of 50  train loss: 2.407\n",
            "Epoch 3 of 50  train loss: 2.295\n",
            "Epoch 4 of 50  train loss: 2.212\n",
            "Epoch 5 of 50  train loss: 2.151\n",
            "Epoch 6 of 50  train loss: 2.108\n",
            "Epoch 7 of 50  train loss: 2.075\n",
            "Epoch 8 of 50  train loss: 2.046\n",
            "Epoch 9 of 50  train loss: 2.022\n",
            "Epoch 10 of 50  train loss: 2.003\n",
            "Epoch 11 of 50  train loss: 1.983\n",
            "Epoch 12 of 50  train loss: 1.969\n",
            "Epoch 13 of 50  train loss: 1.955\n",
            "Epoch 14 of 50  train loss: 1.942\n",
            "Epoch 15 of 50  train loss: 1.931\n",
            "Epoch 16 of 50  train loss: 1.920\n",
            "Epoch 17 of 50  train loss: 1.910\n",
            "Epoch 18 of 50  train loss: 1.903\n",
            "Epoch 19 of 50  train loss: 1.895\n",
            "Epoch 20 of 50  train loss: 1.888\n",
            "Epoch 21 of 50  train loss: 1.881\n",
            "Epoch 22 of 50  train loss: 1.876\n",
            "Epoch 23 of 50  train loss: 1.867\n",
            "Epoch 24 of 50  train loss: 1.863\n",
            "Epoch 25 of 50  train loss: 1.856\n",
            "Epoch 26 of 50  train loss: 1.850\n",
            "Epoch 27 of 50  train loss: 1.847\n",
            "Epoch 28 of 50  train loss: 1.844\n",
            "Epoch 29 of 50  train loss: 1.837\n",
            "Epoch 30 of 50  train loss: 1.835\n",
            "Epoch 31 of 50  train loss: 1.829\n",
            "Epoch 32 of 50  train loss: 1.827\n",
            "Epoch 33 of 50  train loss: 1.825\n",
            "Epoch 34 of 50  train loss: 1.820\n",
            "Epoch 35 of 50  train loss: 1.817\n",
            "Epoch 36 of 50  train loss: 1.813\n",
            "Epoch 37 of 50  train loss: 1.810\n",
            "Epoch 38 of 50  train loss: 1.806\n",
            "Epoch 39 of 50  train loss: 1.804\n",
            "Epoch 40 of 50  train loss: 1.803\n",
            "Epoch 41 of 50  train loss: 1.798\n",
            "Epoch 42 of 50  train loss: 1.796\n",
            "Epoch 43 of 50  train loss: 1.796\n",
            "Epoch 44 of 50  train loss: 1.792\n",
            "Epoch 45 of 50  train loss: 1.789\n",
            "Epoch 46 of 50  train loss: 1.788\n",
            "Epoch 47 of 50  train loss: 1.784\n",
            "Epoch 48 of 50  train loss: 1.792\n",
            "Epoch 49 of 50  train loss: 1.786\n",
            "Epoch 50 of 50  train loss: 1.782\n"
          ]
        }
      ]
    },
    {
      "cell_type": "code",
      "source": [
        "# Your plot code here\n",
        "x = np.arange(len(history1))\n",
        "plt.plot(x, history1)\n",
        "plt.xlabel('Num epoch')\n",
        "plt.ylabel('Loss')"
      ],
      "metadata": {
        "colab": {
          "base_uri": "https://localhost:8080/",
          "height": 466
        },
        "id": "P97ZMtJHx2bu",
        "outputId": "3e1a4b4a-3fda-4517-e607-77162ebc922b"
      },
      "execution_count": null,
      "outputs": [
        {
          "output_type": "execute_result",
          "data": {
            "text/plain": [
              "Text(0, 0.5, 'Loss')"
            ]
          },
          "metadata": {},
          "execution_count": 78
        },
        {
          "output_type": "display_data",
          "data": {
            "text/plain": [
              "<Figure size 640x480 with 1 Axes>"
            ],
            "image/png": "[encoded data removed]"
          },
          "metadata": {}
        }
      ]
    },
    {
      "cell_type": "code",
      "source": [
        "def generate_sample1(char_rnn, seed_phrase=' Hello', max_length=500, temperature=1.0):\n",
        "\n",
        "    x_sequence = [tokens_to_idx[token] for token in seed_phrase]\n",
        "    x_sequence = torch.tensor([[x_sequence]], dtype=torch.int64).to(device)\n",
        "    #print(x_sequence)\n",
        "    hid_state = char_rnn.initial_state(1)[0].to(device), char_rnn.initial_state(1)[1].to(device)\n",
        "\n",
        "    #feed the seed phrase, if any\n",
        "    for i in range(len(seed_phrase) - 1):\n",
        "        #print(x_sequence[:, -1].shape, hid_state.shape)\n",
        "        out, hid_state = char_rnn(x_sequence[:, :, i], hid_state)\n",
        "\n",
        "    #start generating\n",
        "    for _ in range(max_length - len(seed_phrase)):\n",
        "        #print(x_sequence.shape, x_sequence, hid_state.shape)\n",
        "        out, hid_state = char_rnn(x_sequence[:, -1], hid_state)\n",
        "        # Be really careful here with the model output\n",
        "        p_next = F.softmax(out / temperature, dim=-1).data.cpu().numpy()[0]\n",
        "\n",
        "        # sample next token and push it back into x_sequence\n",
        "        #print(p_next.shape, len(tokens))\n",
        "        next_ix = np.random.choice(len(tokens), p=p_next)\n",
        "        next_ix = torch.tensor([[[next_ix]]], dtype=torch.int64).to(device)\n",
        "        #print('x+seq', x_sequence.shape, 'next', next_ix.shape)\n",
        "        x_sequence = torch.cat([x_sequence, next_ix], dim=2)\n",
        "\n",
        "    return ''.join([tokens[ix] for ix in x_sequence.data.cpu().numpy()[0][0]])"
      ],
      "metadata": {
        "id": "VYi5Sidsx9o4"
      },
      "execution_count": null,
      "outputs": []
    },
    {
      "cell_type": "code",
      "source": [
        "print(generate_sample1(char_rnn=model1, seed_phrase=' мой дядя самых честных правил', max_length=500, temperature=0.7))"
      ],
      "metadata": {
        "colab": {
          "base_uri": "https://localhost:8080/"
        },
        "id": "88mSZ8EayBmV",
        "outputId": "1f739812-6712-4084-acbc-2c9b4c718aaf"
      },
      "execution_count": null,
      "outputs": [
        {
          "output_type": "stream",
          "name": "stdout",
          "text": [
            " мой дядя самых честных правил\n",
            "в тимель я бы с одной в седьмом\n",
            "и врусти дни лорде с онегин,\n",
            "и стройной прозна не отах.\n",
            "\n",
            "\n",
            "\n",
            "xx\n",
            "\n",
            "вы слов вам был свой час было\n",
            "чеперь к ножит он двор чинатья,\n",
            "но столькой я проских слабом.\n",
            "\n",
            "\n",
            "\n",
            "xliii\n",
            "\n",
            "что ж? но в милы страстина\n",
            "он вас; так почумам испершу\n",
            "сей бровин, и милы с неменье,\n",
            "не без умена отхранье,\n",
            "ты не добрый за больи друга,\n",
            "и вашим была степрованья\n",
            "чудта на пам и водров татьяне!\n",
            "и дамствы примата стола…\n",
            "та крестный придва с друзей, ностает,\n",
            "и перед мол усты\n"
          ]
        }
      ]
    },
    {
      "cell_type": "markdown",
      "metadata": {
        "id": "7cV1aDNC9AnX"
      },
      "source": [
        "Generate text using the trained net with different `temperature` parameter: `[0.1, 0.2, 0.5, 1.0, 2.0]`.\n",
        "\n",
        "Evaluate the results visually, try to interpret them."
      ]
    },
    {
      "cell_type": "markdown",
      "source": [
        "*С: тут мне надоел дядя честных правил и в ход пошла татьяна в качестве seed phrase:)*"
      ],
      "metadata": {
        "id": "SL5Nf7SFaHkV"
      }
    },
    {
      "cell_type": "code",
      "execution_count": null,
      "metadata": {
        "id": "z1RqnW9e9AnX",
        "colab": {
          "base_uri": "https://localhost:8080/"
        },
        "outputId": "e9ff14b3-4285-46bd-a0a5-f1bff72477b1"
      },
      "outputs": [
        {
          "output_type": "stream",
          "name": "stdout",
          "text": [
            "\n",
            "-------------------------------------------------\n",
            "Temperature = 0.1\n",
            "Result:\n",
            "\n",
            " татьяна, русская душою\n",
            "и в соседственный слез она\n",
            "в так наше славить старины,\n",
            "в стразная свое страсти,\n",
            "и в том с ней молодой страсть\n",
            "и молодой прости в страсти\n",
            "и в страсти прихранный страсти\n",
            "и в так с ней простой постередий\n",
            "и в такой свет он он прости,\n",
            "и страсти с ним страсти встречит\n",
            "и в так страсти в словой страсть\n",
            "и в том и так с онегина,\n",
            "и в страсти страшно в страсти,\n",
            "как страсти своей в соседой\n",
            "и молча под нем и в страсть\n",
            "в слез в там с ним с ней вас в садим,\n",
            "и в сердце молодой привода,\n",
            "на\n",
            "\n",
            "-------------------------------------------------\n",
            "Temperature = 0.2\n",
            "Result:\n",
            "\n",
            " татьяна, русская душою\n",
            "и там с ним в тайный страшный свет,\n",
            "прости с ним молча не страсти\n",
            "и в теперь света в так в томной\n",
            "и в так нам с она страсной\n",
            "и страсти своей страсти страсти\n",
            "и в тихо с ним постерственный,\n",
            "и в страшно в свет и в ней молодой\n",
            "и в стариненья в страсти,\n",
            "и в должны в смерть в так на странный,\n",
            "и в том страшен постарий старит\n",
            "и в дела скажний поле страсть\n",
            "и доснуть с простой приводит\n",
            "она ли он от нас соне.\n",
            "\n",
            "\n",
            "\n",
            "xxxvii\n",
            "\n",
            "в гость мой старинные страсть,\n",
            "и страшный страсти страсти\n",
            "и в т\n",
            "\n",
            "-------------------------------------------------\n",
            "Temperature = 0.5\n",
            "Result:\n",
            "\n",
            " татьяна, русская душою\n",
            "и в разноко пред них сладкий,\n",
            "за том была в такой странья,\n",
            "и всё, иль вам он он простой,\n",
            "друг, у ним и так с окная,\n",
            "он вославно то в гости досада\n",
            "мне в меня с перед том как\n",
            "не знаюльных простить в этой —\n",
            "татьяна с образдьм – и всё, —\n",
            "всегда ж она мой для вас\n",
            "и, верно всё умела страсти\n",
            "всё мечту в строми на пора!\n",
            "и своим простовай и вся,\n",
            "и дольно за немой волненный,\n",
            "в тень письмо страсти соле…\n",
            "\n",
            "\n",
            "\n",
            "xlv\n",
            "\n",
            "трочит собрате, бы всях свет?\n",
            "\n",
            "\n",
            "\n",
            "xxxii\n",
            "\n",
            "а страшный дремала бы в ней\n",
            "и мо\n",
            "\n",
            "-------------------------------------------------\n",
            "Temperature = 1.0\n",
            "Result:\n",
            "\n",
            " татьяна, русская душою.\n",
            "порыi вода моих желтой\n",
            "моей миром почуя визно.\n",
            "я с круках рука сты всятья,\n",
            "марель молча вздушный насмо\n",
            "острелу? я все кричить!\n",
            "«а спать, но стрались мир послу\n",
            "выслетными мечта фмуна\n",
            "тайть так рада… зъвоже фрон.\n",
            "миде стали не стлассь коньм\n",
            "и ручо асам я упра\n",
            "нет к вас был бы хонече млрени.\n",
            "\n",
            "\n",
            "\n",
            "xxxv\n",
            "\n",
            "заменуть все намой окстал,\n",
            "к нужно на нам фиредки свет\n",
            "холоднится ктак знал делами\n",
            "и ромотает, к вони мнем,\n",
            "ты млады мальчной двор нет:\n",
            "чему тайным она помно,\n",
            "в он прошит толже\n",
            "\n",
            "-------------------------------------------------\n",
            "Temperature = 2.0\n",
            "Result:\n",
            "\n",
            " татьяна, русская душою\n",
            "зовле! злиске, боязы. поврилы…»\n",
            "\n",
            "\n",
            "н юбра гестинки ческски!\n",
            "чмо7баю, задервый ищептя;\n",
            "занейу…, смиеу\n",
            "ибрас, госавн\n",
            "хоещ. ошы, – бнан оотчеши:!т топ! я,\n",
            "гнучшxй пинцивиим,?\n",
            "ир маррочминеннцусь… горяде,\n",
            "бущерки…-гдруго. и.\n",
            "гокаит оню щдуз.. —\n",
            "\n",
            "\n",
            "\n",
            "lvx\n",
            "\n",
            "это дывот мамоя…а\n",
            "гмаяшла свучычдаюзнее?.,.\n",
            "–\n",
            "т);точью читаься,\n",
            "я ж рож! я нын щежез, о та.\n",
            " офб!).\n",
            "вшед дву – своя.\n",
            "слупесам, паипеастяю;\n",
            "я брригщиве буштах,\n",
            "а яврь…аа\n",
            "лречом вз ъупулся —х!»\n",
            "озшрацек забывленей.\n",
            "\n",
            "гнаха, сепция \n"
          ]
        }
      ],
      "source": [
        "# Text generation with different temperature values here\n",
        "temp = [0.1, 0.2, 0.5, 1.0, 2.0]\n",
        "for t in temp:\n",
        "  print(f\"\\n-------------------------------------------------\\nTemperature = {t}\\nResult:\\n\")\n",
        "  print(generate_sample1(char_rnn=model1, seed_phrase=' татьяна, русская душою', max_length=500, temperature=t))"
      ]
    },
    {
      "cell_type": "markdown",
      "source": [
        "*С: температура в экспоненте функции софтмакс отвечает за случайность (по факту, энтропию). Чем выше температура, тем с большей вероятностью модель выберет самый наиболее вероятный символ, и наоборот. Соответственно, тут мы видим, что при маленьком значении температуры 0.2 слова и буквы часто повторяются (почему-то модели очень понравились слова сердце и страсть). Что интересно, в этом случае в тексте больше всего рифм (долгой - странной, тольной - тёмной - приводной, из того, что получилось у меня при одном из запусков). При большом значении температуры (2.0) в тексте появляется куча символов и даже английские буквы, которых явно там быть не должно. 0.5 - 1.0 - оптимальные значения. Мне где-то на 0.7 больше всего понравилось.*"
      ],
      "metadata": {
        "id": "CnzyNR92acyn"
      }
    },
    {
      "cell_type": "markdown",
      "metadata": {
        "id": "TzKE90Eg9AnY"
      },
      "source": [
        "### Saving and loading models"
      ]
    },
    {
      "cell_type": "markdown",
      "metadata": {
        "id": "BqB-6TSI9AnY"
      },
      "source": [
        "Save the model to the disk, then load it and generate text. Examples are available [here](https://pytorch.org/tutorials/beginner/saving_loading_models.html])."
      ]
    },
    {
      "cell_type": "markdown",
      "source": [
        "*С: путь и название файла.*"
      ],
      "metadata": {
        "id": "5NMupvkKcNJf"
      }
    },
    {
      "cell_type": "code",
      "source": [
        "path = 'model_lstm.pth'"
      ],
      "metadata": {
        "id": "sTu-ZU9o1aAh"
      },
      "execution_count": null,
      "outputs": []
    },
    {
      "cell_type": "code",
      "source": [
        "torch.save(model1, path)"
      ],
      "metadata": {
        "id": "u7h0Ez2u1RyY"
      },
      "execution_count": null,
      "outputs": []
    },
    {
      "cell_type": "code",
      "source": [
        "model2 = torch.load(path, weights_only=False)\n",
        "model2.eval()"
      ],
      "metadata": {
        "colab": {
          "base_uri": "https://localhost:8080/"
        },
        "id": "fg7LvraU1WSz",
        "outputId": "1dde1edc-56ca-4508-ac7c-61136ed233dd"
      },
      "execution_count": null,
      "outputs": [
        {
          "output_type": "execute_result",
          "data": {
            "text/plain": [
              "CharLSTMLoop(\n",
              "  (emb): Embedding(83, 128)\n",
              "  (lstm): LSTM(128, 64, num_layers=2, batch_first=True, dropout=0.2)\n",
              "  (hid_to_logits): Linear(in_features=64, out_features=83, bias=True)\n",
              ")"
            ]
          },
          "metadata": {},
          "execution_count": 84
        }
      ]
    },
    {
      "cell_type": "code",
      "source": [
        "print(generate_sample1(char_rnn=model2, seed_phrase=' онегин', max_length=500, temperature=0.7))"
      ],
      "metadata": {
        "colab": {
          "base_uri": "https://localhost:8080/"
        },
        "id": "y9-ymnR91W4C",
        "outputId": "f0a7a7e8-9da4-40e2-82fe-4083954bc823"
      },
      "execution_count": null,
      "outputs": [
        {
          "output_type": "stream",
          "name": "stdout",
          "text": [
            " онегин?\n",
            "дало своей бредит таня,\n",
            "и над ним раденья, на в окном,\n",
            "на душе я лунях лета,\n",
            "то первый думи вздор бурена».\n",
            "«в уж чужие так простом светом,\n",
            "в должно раздалася на замы…\n",
            "\n",
            "\n",
            "\n",
            "xxxvii\n",
            "\n",
            "приважный куплив не знала,\n",
            "и отпиралась когда вашей.\n",
            "\n",
            "\n",
            "\n",
            "xli\n",
            "\n",
            "что дева не так нет был со мой,\n",
            "не прязамененных часе,\n",
            "что не девы много со след!\n",
            "\n",
            "\n",
            "\n",
            "xvi\n",
            "\n",
            "там мать молча лун в тем уверина,\n",
            "отпасным узда с оченья,\n",
            "жиль был был свой постели тани\n",
            "ходится, и степут приводит\n",
            "читать он вдруг на молодой\n",
            "вствена; онегин до \n"
          ]
        }
      ]
    },
    {
      "cell_type": "markdown",
      "source": [
        "*С: П.С. отдельное спасибо за такое интересное задание, я конечно в какой-то момент возненавидела Пушкина и ML, но в итоге очень сильно радовалась, когда модель сгенерила +- осмысленный текст, непередаваемые ощущения.*"
      ],
      "metadata": {
        "id": "hS3d5a6lclRL"
      }
    },
    {
      "cell_type": "markdown",
      "metadata": {
        "id": "CD-NFI1_9AnY"
      },
      "source": [
        "### References\n",
        "1. <a href='http://karpathy.github.io/2015/05/21/rnn-effectiveness/'> Andrew Karpathy blog post about RNN. </a>\n",
        "There are several examples of genration: Shakespeare texts, Latex formulas, Linux Sourse Code and children names.\n",
        "2. <a href='https://github.com/karpathy/char-rnn'> Repo with char-rnn code </a>\n",
        "3. Cool repo with PyTorch examples: [link](https://github.com/spro/practical-pytorch)"
      ]
    }
  ],
  "metadata": {
    "anaconda-cloud": {},
    "kernelspec": {
      "display_name": "Python 3",
      "name": "python3"
    },
    "language_info": {
      "codemirror_mode": {
        "name": "ipython",
        "version": 3
      },
      "file_extension": ".py",
      "mimetype": "text/x-python",
      "name": "python",
      "nbconvert_exporter": "python",
      "pygments_lexer": "ipython3",
      "version": "3.7.7"
    },
    "colab": {
      "provenance": [],
      "gpuType": "T4",
      "include_colab_link": true
    },
    "accelerator": "GPU"
  },
  "nbformat": 4,
  "nbformat_minor": 0
}